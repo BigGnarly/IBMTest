{
 "cells": [
  {
   "cell_type": "markdown",
   "id": "4375f423-2bac-47cb-81da-b45a4ae2ad78",
   "metadata": {},
   "source": [
    "# Data Science Tools and Ecosystem"
   ]
  },
  {
   "cell_type": "markdown",
   "id": "f6bc4dc3-0076-4146-ae82-44b78489031a",
   "metadata": {},
   "source": [
    "In this notebook, Data Science Tools and Ecosystem are summarized."
   ]
  },
  {
   "cell_type": "markdown",
   "id": "5a54cd09-4f7f-41e0-900e-a0dfa5d5625f",
   "metadata": {},
   "source": [
    "Objectives:\n",
    "+ Listing 3 Popular Languages that Data Scientists Use\n",
    "+ Listing Some Libraries Commonly Used by Data Scientists\n",
    "+ Showcasing Ways of Evaluating Arithmetic Expressiosn in Python"
   ]
  },
  {
   "cell_type": "markdown",
   "id": "7bee4b78-7294-4259-9ce3-be268c1a979b",
   "metadata": {},
   "source": [
    "Some of the popular languages that Data Scientists use are:\n",
    "1. Python\n",
    "2. Julia\n",
    "3. R"
   ]
  },
  {
   "cell_type": "markdown",
   "id": "f334e442-311f-4256-965c-201c25bf0e01",
   "metadata": {},
   "source": [
    "Some of the commonly used libraries used by Data Scientists include:\n",
    "1. Pandas\n",
    "2. scikit-learn\n",
    "3. ggplot"
   ]
  },
  {
   "cell_type": "markdown",
   "id": "a256248f-1a4f-4656-aa28-860115f3f011",
   "metadata": {},
   "source": [
    "|Data Science Tools|\n",
    "|------------------|\n",
    "|Jupyter Lab|\n",
    "|Google Colab|\n",
    "|IBM Watson Studio|"
   ]
  },
  {
   "cell_type": "markdown",
   "id": "2b8dfefa-5b94-469d-a318-96b61d293efa",
   "metadata": {},
   "source": [
    "### Below are a few examples of evaluating arithmetic expressions in Python."
   ]
  },
  {
   "cell_type": "code",
   "execution_count": 21,
   "id": "3d1957e3-dcea-485b-b215-fd9806b2c83b",
   "metadata": {},
   "outputs": [
    {
     "data": {
      "text/plain": [
       "17"
      ]
     },
     "execution_count": 21,
     "metadata": {},
     "output_type": "execute_result"
    }
   ],
   "source": [
    "#this a simple arithmetic expression to mutiply then add integers\n",
    "3*4+5"
   ]
  },
  {
   "cell_type": "code",
   "execution_count": 29,
   "id": "6527e628-40a9-433e-b269-0d6b870b9b5a",
   "metadata": {},
   "outputs": [
    {
     "name": "stdout",
     "output_type": "stream",
     "text": [
      "3.3333333333333335 Hours\n"
     ]
    }
   ],
   "source": [
    "#This will convert 200 minutes to hours by diving by 60\n",
    "print ((200/60), \"Hours\")"
   ]
  },
  {
   "cell_type": "markdown",
   "id": "d7dc690e-161d-4e6f-a70e-bd5844af767d",
   "metadata": {},
   "source": [
    "## Author\n",
    "Aly Gomaa"
   ]
  },
  {
   "cell_type": "code",
   "execution_count": null,
   "id": "4dd668d2-d23f-4ce1-9f3d-e6ae4ade1f72",
   "metadata": {},
   "outputs": [],
   "source": []
  }
 ],
 "metadata": {
  "kernelspec": {
   "display_name": "Python [conda env:base] *",
   "language": "python",
   "name": "conda-base-py"
  },
  "language_info": {
   "codemirror_mode": {
    "name": "ipython",
    "version": 3
   },
   "file_extension": ".py",
   "mimetype": "text/x-python",
   "name": "python",
   "nbconvert_exporter": "python",
   "pygments_lexer": "ipython3",
   "version": "3.12.7"
  }
 },
 "nbformat": 4,
 "nbformat_minor": 5
}
